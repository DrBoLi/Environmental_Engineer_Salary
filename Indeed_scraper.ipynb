{
 "cells": [
  {
   "cell_type": "markdown",
   "metadata": {},
   "source": [
    "# Introduction\n",
    "\n",
    "This is the web scraper section. The job posting information were scraped from Indeed using Beautiful Soup. "
   ]
  },
  {
   "cell_type": "code",
   "execution_count": 1,
   "metadata": {},
   "outputs": [],
   "source": [
    "# Import libraries\n",
    "from selenium import webdriver\n",
    "import pandas as pd\n",
    "from bs4 import BeautifulSoup"
   ]
  },
  {
   "cell_type": "code",
   "execution_count": 2,
   "metadata": {},
   "outputs": [],
   "source": [
    "# Create Driver\n",
    "driver = webdriver.Chrome(\"/Users/boli/OneDrive/Documents/Data Science/Projects/ee_salary_prof/chromedriver\")\n",
    "\n",
    "# Create dataframe\n",
    "dataframe = pd.DataFrame(columns=[\"Title\",\"Location\",\"Company\",\"Salary\",\"Summary\"])\n",
    "\n",
    "\n",
    "for i in range(0,1000,10):\n",
    "\n",
    "    ##Step1: Get the page\n",
    "    driver.get(\"https://www.indeed.com/jobs?q=environmental+engineer&l=United+States&radius=50&start=\"+str(i))\n",
    "    driver.implicitly_wait(4)\n",
    "\n",
    "    all_jobs = driver.find_elements_by_class_name('result')\n",
    "\n",
    "    for job in all_jobs:\n",
    "\n",
    "        result_html = job.get_attribute('innerHTML')\n",
    "        soup = BeautifulSoup(result_html,'html.parser')\n",
    "\n",
    "        try:\n",
    "            title = soup.find(\"a\",class_=\"jobtitle\").text.replace('\\n','')\n",
    "        except:\n",
    "            title = 'None'\n",
    "\n",
    "        try:\n",
    "            location = soup.find(class_=\"location\").text\n",
    "        except:\n",
    "            location = 'None'\n",
    "\n",
    "        try:\n",
    "            company = soup.find(class_=\"company\").text.replace(\"\\n\",\"\").strip()\n",
    "        except:\n",
    "            company = 'None'\n",
    "\n",
    "        try:\n",
    "            salary = soup.find('span', class_=\"salaryText\").text.strip()\n",
    "        except:\n",
    "            salary = 'None'\n",
    "            \n",
    "        try:\n",
    "            summary = soup.find('div', class_=\"summary\").text.replace(\"\\n\",\"\").strip()\n",
    "        except:\n",
    "            summary = 'None'           \n",
    "\n",
    "        dataframe = dataframe.append({'Title':title,'Location':location,\"Company\":company,\"Salary\":salary, \"Summary\":summary},\n",
    "                        ignore_index=True)\n",
    "\n",
    "# Create the csv file\n",
    "dataframe.to_csv(\"environmentalengineer.csv\",index=False)"
   ]
  },
  {
   "cell_type": "code",
   "execution_count": null,
   "metadata": {},
   "outputs": [],
   "source": []
  }
 ],
 "metadata": {
  "kernelspec": {
   "display_name": "Python 3",
   "language": "python",
   "name": "python3"
  },
  "language_info": {
   "codemirror_mode": {
    "name": "ipython",
    "version": 3
   },
   "file_extension": ".py",
   "mimetype": "text/x-python",
   "name": "python",
   "nbconvert_exporter": "python",
   "pygments_lexer": "ipython3",
   "version": "3.7.7"
  }
 },
 "nbformat": 4,
 "nbformat_minor": 4
}
